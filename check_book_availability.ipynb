{
 "cells": [
  {
   "cell_type": "code",
   "execution_count": 1,
   "metadata": {},
   "outputs": [],
   "source": [
    "import re\n",
    "import requests\n",
    "from bs4 import BeautifulSoup"
   ]
  },
  {
   "cell_type": "code",
   "execution_count": 2,
   "metadata": {},
   "outputs": [],
   "source": [
    "url=\"http://books.toscrape.com/\"  #specify link\n",
    "r=requests.get(url)               #get the request \n",
    "soup=BeautifulSoup(r.content,\"html.parser\")  #scrap content using beautifulsoup\n",
    "\n",
    "s=soup.find_all(\"a\")  #find all archor tag "
   ]
  },
  {
   "cell_type": "markdown",
   "metadata": {},
   "source": [
    "specify the title and topic "
   ]
  },
  {
   "cell_type": "code",
   "execution_count": 3,
   "metadata": {},
   "outputs": [],
   "source": [
    "title,topic=\"Suddenly in Love (Lake Haven #1)\",\"Romance\""
   ]
  },
  {
   "cell_type": "markdown",
   "metadata": {},
   "source": [
    "scrap all text in archor content"
   ]
  },
  {
   "cell_type": "code",
   "execution_count": 4,
   "metadata": {},
   "outputs": [],
   "source": [
    "texts=[]  #text\n",
    "\n",
    "for i in s:\n",
    "    t=(i.text).split()\n",
    "\n",
    "    ss=\"\"\n",
    "    for j in t:\n",
    "        ss+=j+\" \"\n",
    "        \n",
    "    texts.append((ss[:-1]).lower())"
   ]
  },
  {
   "cell_type": "markdown",
   "metadata": {},
   "source": [
    "find the index of the topic"
   ]
  },
  {
   "cell_type": "code",
   "execution_count": 5,
   "metadata": {},
   "outputs": [],
   "source": [
    "idx=texts.index(topic.lower())"
   ]
  },
  {
   "cell_type": "markdown",
   "metadata": {},
   "source": [
    "extract the url of the idx"
   ]
  },
  {
   "cell_type": "code",
   "execution_count": 6,
   "metadata": {},
   "outputs": [],
   "source": [
    "page=(s[idx]).get(\"href\")   #get the href using the index \n",
    "page_url=url+\"/\"+page       #extract the url of the page"
   ]
  },
  {
   "cell_type": "code",
   "execution_count": 7,
   "metadata": {},
   "outputs": [
    {
     "data": {
      "text/plain": [
       "'http://books.toscrape.com//catalogue/category/books/romance_8/index.html'"
      ]
     },
     "execution_count": 7,
     "metadata": {},
     "output_type": "execute_result"
    }
   ],
   "source": [
    "page_url"
   ]
  },
  {
   "cell_type": "markdown",
   "metadata": {},
   "source": [
    "scrap content for the url and find all the archor link"
   ]
  },
  {
   "cell_type": "code",
   "execution_count": 8,
   "metadata": {},
   "outputs": [],
   "source": [
    "r=requests.get(page_url)\n",
    "soup=BeautifulSoup(r.content,\"html.parser\")\n",
    "s=soup.find_all(\"a\")"
   ]
  },
  {
   "cell_type": "markdown",
   "metadata": {},
   "source": [
    "scrap all the archor text from the page"
   ]
  },
  {
   "cell_type": "code",
   "execution_count": 9,
   "metadata": {},
   "outputs": [
    {
     "data": {
      "text/plain": [
       "['books to scrape',\n",
       " 'home',\n",
       " 'books',\n",
       " ' books ',\n",
       " ' travel ',\n",
       " ' mystery ',\n",
       " ' historical fiction ',\n",
       " ' sequential art ',\n",
       " ' classics ',\n",
       " ' philosophy ',\n",
       " ' romance ',\n",
       " ' womens fiction ',\n",
       " ' fiction ',\n",
       " ' childrens ',\n",
       " ' religion ',\n",
       " ' nonfiction ',\n",
       " ' music ',\n",
       " ' default ',\n",
       " ' science fiction ',\n",
       " ' sports and games ',\n",
       " ' add a comment ',\n",
       " ' fantasy ',\n",
       " ' new adult ',\n",
       " ' young adult ',\n",
       " ' science ',\n",
       " ' poetry ',\n",
       " ' paranormal ',\n",
       " ' art ',\n",
       " ' psychology ',\n",
       " ' autobiography ',\n",
       " ' parenting ',\n",
       " ' adult fiction ',\n",
       " ' humor ',\n",
       " ' horror ',\n",
       " ' history ',\n",
       " ' food and drink ',\n",
       " ' christian fiction ',\n",
       " ' business ',\n",
       " ' biography ',\n",
       " ' thriller ',\n",
       " ' contemporary ',\n",
       " ' spirituality ',\n",
       " ' academic ',\n",
       " ' self help ',\n",
       " ' historical ',\n",
       " ' christian ',\n",
       " ' suspense ',\n",
       " ' short stories ',\n",
       " ' novels ',\n",
       " ' health ',\n",
       " ' politics ',\n",
       " ' cultural ',\n",
       " ' erotica ',\n",
       " ' crime ',\n",
       " 'chase me (paris nights #2)\" clas',\n",
       " 'chase me (paris nights #2)',\n",
       " 'black dust\" clas',\n",
       " 'black dust',\n",
       " 'her backup boyfriend (the sorensen family #1)\" clas',\n",
       " 'her backup boyfriend (the sorensen family #1)',\n",
       " 'first and first (five boroughs #3)\" clas',\n",
       " 'first and first (five boroughs #3)',\n",
       " 'fifty shades darker (fifty shades #2)\" clas',\n",
       " 'fifty shades darker (fifty shades #2)',\n",
       " 'the wedding dress\" clas',\n",
       " 'the wedding dress',\n",
       " 'suddenly in love (lake haven #1)\" clas',\n",
       " 'suddenly in love (lake haven #1)',\n",
       " 'something more than this\" clas',\n",
       " 'something more than this',\n",
       " 'doing it over (most likely to #1)\" clas',\n",
       " 'doing it over (most likely to #1)',\n",
       " 'the wedding pact (the o\\'malleys #2)\" clas',\n",
       " \"the wedding pact (the o'malleys #2)\",\n",
       " 'hold your breath (search and rescue #1)\" clas',\n",
       " 'hold your breath (search and rescue #1)',\n",
       " 'dirty (dive bar #1)\" clas',\n",
       " 'dirty (dive bar #1)',\n",
       " 'take me home tonight (rock star romance #3)\" clas',\n",
       " 'take me home tonight (rock star romance #3)',\n",
       " 'off the hook (fishing for trouble #1)\" clas',\n",
       " 'off the hook (fishing for trouble #1)',\n",
       " 'a gentleman\\'s position (society of gentlemen #3)\" clas',\n",
       " \"a gentleman's position (society of gentlemen #3)\",\n",
       " 'sit, stay, love\" clas',\n",
       " 'sit, stay, love',\n",
       " 'a girl\\'s guide to moving on (new beginnings #2)\" clas',\n",
       " \"a girl's guide to moving on (new beginnings #2)\",\n",
       " 'the perfect play (play by play #1)\" clas',\n",
       " 'the perfect play (play by play #1)',\n",
       " 'dark lover (black dagger brotherhood #1)\" clas',\n",
       " 'dark lover (black dagger brotherhood #1)',\n",
       " 'changing the game (play by play #2)\" clas',\n",
       " 'changing the game (play by play #2)',\n",
       " 'next']"
      ]
     },
     "execution_count": 9,
     "metadata": {},
     "output_type": "execute_result"
    }
   ],
   "source": [
    "texts=[]\n",
    "for i in range(len(s)):\n",
    "    tt=str(s[i]).split(\"=\")\n",
    "\n",
    "    if len(tt)>2:\n",
    "        ss=(str(s[i]).split(\"=\")[2]).split(\">\")[0][1:-1]\n",
    "\n",
    "    else:\n",
    "        ss=str(s[i].text)\n",
    "        ss=re.sub(r'\\W+', ' ', ss)\n",
    "\n",
    "\n",
    "    texts.append((ss).lower())\n",
    "texts"
   ]
  },
  {
   "cell_type": "markdown",
   "metadata": {},
   "source": [
    "Check if the last text is not next"
   ]
  },
  {
   "cell_type": "code",
   "execution_count": 10,
   "metadata": {},
   "outputs": [
    {
     "data": {
      "text/plain": [
       "'http://books.toscrape.com//catalogue/category/books/romance_8/page-2.html'"
      ]
     },
     "execution_count": 10,
     "metadata": {},
     "output_type": "execute_result"
    }
   ],
   "source": [
    "page_url=url+\"/\"+(page.split('.')[0])[:-6]+\"/\"+(s[-1]).get(\"href\")\n",
    "page_url"
   ]
  },
  {
   "cell_type": "code",
   "execution_count": null,
   "metadata": {},
   "outputs": [],
   "source": []
  },
  {
   "cell_type": "code",
   "execution_count": 11,
   "metadata": {},
   "outputs": [
    {
     "name": "stdout",
     "output_type": "stream",
     "text": [
      "http://books.toscrape.com//catalogue/category/books/romance_8/page-3.html\n"
     ]
    },
    {
     "data": {
      "text/plain": [
       "True"
      ]
     },
     "execution_count": 11,
     "metadata": {},
     "output_type": "execute_result"
    }
   ],
   "source": [
    "p=2\n",
    "while texts[-1]==\"next\": #check if the last text is not next\n",
    "\n",
    "\n",
    "      r=requests.get(page_url,\"html.parser\")   #\n",
    "      soup=BeautifulSoup(r.content)\n",
    "      s=soup.find_all(\"a\")\n",
    "      if s==[]:\n",
    "            break\n",
    "\n",
    "      texts2=[]\n",
    "      for i in range(len(s)):\n",
    "        tt=str(s[i]).split(\"=\")\n",
    "\n",
    "        if len(tt)>2:\n",
    "            ss=(str(s[i]).split(\"=\")[2]).split(\">\")[0][1:-1]\n",
    "\n",
    "        else:\n",
    "            ss=str(s[i].text)\n",
    "            ss=re.sub(r'\\W+', ' ', ss)\n",
    "        \n",
    "        texts2.append((ss).lower())\n",
    "      \n",
    "      page_url=page_url.replace(str(p),str(p+1))\n",
    "      print(page_url)\n",
    "      texts=texts+texts2\n",
    "        \n",
    "      p=p+1\n",
    "check =False\n",
    "x=title.lower()[0:10]\n",
    "\n",
    "\n",
    "for text in texts:\n",
    "    if (title.lower())==text:\n",
    "\n",
    "      check=True\n",
    "check"
   ]
  },
  {
   "cell_type": "code",
   "execution_count": null,
   "metadata": {},
   "outputs": [],
   "source": []
  },
  {
   "cell_type": "code",
   "execution_count": null,
   "metadata": {},
   "outputs": [],
   "source": []
  },
  {
   "cell_type": "code",
   "execution_count": null,
   "metadata": {},
   "outputs": [],
   "source": []
  }
 ],
 "metadata": {
  "kernelspec": {
   "display_name": "Python 3",
   "language": "python",
   "name": "python3"
  },
  "language_info": {
   "codemirror_mode": {
    "name": "ipython",
    "version": 3
   },
   "file_extension": ".py",
   "mimetype": "text/x-python",
   "name": "python",
   "nbconvert_exporter": "python",
   "pygments_lexer": "ipython3",
   "version": "3.6.5"
  }
 },
 "nbformat": 4,
 "nbformat_minor": 2
}
